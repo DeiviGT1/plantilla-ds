{
 "cells": [
  {
   "cell_type": "code",
   "execution_count": null,
   "metadata": {},
   "outputs": [],
   "source": [
    "%autoreload"
   ]
  },
  {
   "cell_type": "code",
   "execution_count": 28,
   "metadata": {},
   "outputs": [],
   "source": [
    "import os \n",
    "import sys\n",
    "sys.path.append(os.path.join(os.path.dirname(os.getcwd()), 'scripts'))\n",
    "\n",
    "import utils\n",
    "import pandas as pd\n",
    "\n",
    "data_file = \"\"\n",
    "\n",
    "PROJECT_DIR = os.path.dirname(os.getcwd())\n",
    "DATA_DIR = os.path.join(PROJECT_DIR, 'data')\n",
    "DATA_FILE = os.path.join(DATA_DIR, data_file)\n",
    "\n",
    "df = pd.read_csv(DATA_FILE)\n",
    "\n",
    "df = utils.clean_data(df)\n"
   ]
  }
 ],
 "metadata": {
  "kernelspec": {
   "display_name": "base",
   "language": "python",
   "name": "python3"
  },
  "language_info": {
   "codemirror_mode": {
    "name": "ipython",
    "version": 3
   },
   "file_extension": ".py",
   "mimetype": "text/x-python",
   "name": "python",
   "nbconvert_exporter": "python",
   "pygments_lexer": "ipython3",
   "version": "3.8.8"
  }
 },
 "nbformat": 4,
 "nbformat_minor": 2
}
