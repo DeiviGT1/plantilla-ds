{
 "cells": [
  {
   "cell_type": "code",
   "execution_count": null,
   "metadata": {},
   "outputs": [],
   "source": [
    "import os \n",
    "\n",
    "data_file = \"\"\n",
    "\n",
    "CURRENT_DIR = os.path.dirname(os.path.abspath(__file__))\n",
    "DATA_DIR = os.path.join(CURRENT_DIR, 'data')\n",
    "DATA_FILE = os.path.join(DATA_DIR, data_file)"
   ]
  }
 ],
 "metadata": {
  "language_info": {
   "name": "python"
  }
 },
 "nbformat": 4,
 "nbformat_minor": 2
}
