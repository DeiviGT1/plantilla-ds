{
 "cells": [
  {
   "cell_type": "code",
   "execution_count": null,
   "metadata": {},
   "outputs": [],
   "source": [
    "import os \n",
    "import sys\n",
    "sys.path.append(os.path.join(os.path.dirname(__file__), '..', 'scripts'))\n",
    "\n",
    "import scripts.utils as utils\n",
    "import pandas as pd\n",
    "\n",
    "data_file = \"\"\n",
    "\n",
    "CURRENT_DIR = os.path.dirname(os.path.abspath(__file__))\n",
    "DATA_DIR = os.path.join(CURRENT_DIR, 'data')\n",
    "DATA_FILE = os.path.join(DATA_DIR, data_file)\n",
    "\n",
    "df = pd.read_csv(DATA_FILE)\n",
    "\n",
    "df = utils.clean_data(df)"
   ]
  }
 ],
 "metadata": {
  "language_info": {
   "name": "python"
  }
 },
 "nbformat": 4,
 "nbformat_minor": 2
}
